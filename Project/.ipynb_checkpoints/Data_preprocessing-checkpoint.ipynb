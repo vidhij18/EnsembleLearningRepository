{
 "cells": [
  {
   "cell_type": "code",
   "execution_count": null,
   "id": "af409557",
   "metadata": {},
   "outputs": [],
   "source": [
    "#links referred:\n",
    "# https://www.kaggle.com/jonaspptawat/cyberbullying-classification-eda-and-ml"
   ]
  },
  {
   "cell_type": "code",
   "execution_count": 35,
   "id": "86e7d5a0",
   "metadata": {},
   "outputs": [
    {
     "name": "stdout",
     "output_type": "stream",
     "text": [
      "Collecting emoji\n",
      "  Downloading emoji-1.6.3.tar.gz (174 kB)\n",
      "Building wheels for collected packages: emoji\n",
      "  Building wheel for emoji (setup.py): started\n",
      "  Building wheel for emoji (setup.py): finished with status 'done'\n",
      "  Created wheel for emoji: filename=emoji-1.6.3-py3-none-any.whl size=170300 sha256=8c9b9389cc063dae54ab454420f0b28bb7e48de6933e4f1daf323ce51e443a6a\n",
      "  Stored in directory: c:\\users\\user\\appdata\\local\\pip\\cache\\wheels\\e5\\c7\\b3\\b62b7809b5ea6d22241a713d9cc05741d7edaec674b9d61cb7\n",
      "Successfully built emoji\n",
      "Installing collected packages: emoji\n",
      "Successfully installed emoji-1.6.3\n",
      "Note: you may need to restart the kernel to use updated packages.\n"
     ]
    }
   ],
   "source": [
    "pip install emoji"
   ]
  },
  {
   "cell_type": "code",
   "execution_count": 49,
   "id": "3ccf90be",
   "metadata": {},
   "outputs": [],
   "source": [
    "import numpy as np\n",
    "import pandas as pd\n",
    "import nltk\n",
    "from nltk.corpus import stopwords\n",
    "import re\n",
    "import string\n",
    "import emoji"
   ]
  },
  {
   "cell_type": "code",
   "execution_count": 40,
   "id": "4a505945",
   "metadata": {},
   "outputs": [],
   "source": [
    "tweets = pd.read_csv(\"cyberbullying_tweets.csv\")"
   ]
  },
  {
   "cell_type": "code",
   "execution_count": 46,
   "id": "2b91e67c",
   "metadata": {},
   "outputs": [
    {
     "data": {
      "text/html": [
       "<div>\n",
       "<style scoped>\n",
       "    .dataframe tbody tr th:only-of-type {\n",
       "        vertical-align: middle;\n",
       "    }\n",
       "\n",
       "    .dataframe tbody tr th {\n",
       "        vertical-align: top;\n",
       "    }\n",
       "\n",
       "    .dataframe thead th {\n",
       "        text-align: right;\n",
       "    }\n",
       "</style>\n",
       "<table border=\"1\" class=\"dataframe\">\n",
       "  <thead>\n",
       "    <tr style=\"text-align: right;\">\n",
       "      <th></th>\n",
       "      <th>tweet_text</th>\n",
       "      <th>cyberbullying_type</th>\n",
       "      <th>processed_tweet</th>\n",
       "    </tr>\n",
       "  </thead>\n",
       "  <tbody>\n",
       "    <tr>\n",
       "      <th>0</th>\n",
       "      <td>In other words #katandandre, your food was cra...</td>\n",
       "      <td>not_cyberbullying</td>\n",
       "      <td>In words katandandre food crapilicious mkr</td>\n",
       "    </tr>\n",
       "    <tr>\n",
       "      <th>1</th>\n",
       "      <td>Why is #aussietv so white? #MKR #theblock #ImA...</td>\n",
       "      <td>not_cyberbullying</td>\n",
       "      <td>Why aussietv white MKR theblock ImACelebrityAU...</td>\n",
       "    </tr>\n",
       "    <tr>\n",
       "      <th>2</th>\n",
       "      <td>@XochitlSuckkks a classy whore? Or more red ve...</td>\n",
       "      <td>not_cyberbullying</td>\n",
       "      <td>classy whore Or red velvet cupcakes</td>\n",
       "    </tr>\n",
       "    <tr>\n",
       "      <th>3</th>\n",
       "      <td>@Jason_Gio meh. :P  thanks for the heads up, b...</td>\n",
       "      <td>not_cyberbullying</td>\n",
       "      <td>meh P thanks heads not concerned another ang...</td>\n",
       "    </tr>\n",
       "    <tr>\n",
       "      <th>4</th>\n",
       "      <td>@RudhoeEnglish This is an ISIS account pretend...</td>\n",
       "      <td>not_cyberbullying</td>\n",
       "      <td>This ISIS account pretending Kurdish account...</td>\n",
       "    </tr>\n",
       "    <tr>\n",
       "      <th>...</th>\n",
       "      <td>...</td>\n",
       "      <td>...</td>\n",
       "      <td>...</td>\n",
       "    </tr>\n",
       "    <tr>\n",
       "      <th>47687</th>\n",
       "      <td>Black ppl aren't expected to do anything, depe...</td>\n",
       "      <td>ethnicity</td>\n",
       "      <td>Black ppl expected anything depended anything ...</td>\n",
       "    </tr>\n",
       "    <tr>\n",
       "      <th>47688</th>\n",
       "      <td>Turner did not withhold his disappointment. Tu...</td>\n",
       "      <td>ethnicity</td>\n",
       "      <td>Turner not withhold disappointment Turner call...</td>\n",
       "    </tr>\n",
       "    <tr>\n",
       "      <th>47689</th>\n",
       "      <td>I swear to God. This dumb nigger bitch. I have...</td>\n",
       "      <td>ethnicity</td>\n",
       "      <td>I swear God This dumb nigger bitch I got bleac...</td>\n",
       "    </tr>\n",
       "    <tr>\n",
       "      <th>47690</th>\n",
       "      <td>Yea fuck you RT @therealexel: IF YOURE A NIGGE...</td>\n",
       "      <td>ethnicity</td>\n",
       "      <td>Yea fuck RT therealexel IF YOURE A NIGGER FUCK...</td>\n",
       "    </tr>\n",
       "    <tr>\n",
       "      <th>47691</th>\n",
       "      <td>Bro. U gotta chill RT @CHILLShrammy: Dog FUCK ...</td>\n",
       "      <td>ethnicity</td>\n",
       "      <td>Bro U gotta chill RT CHILLShrammy Dog FUCK KP ...</td>\n",
       "    </tr>\n",
       "  </tbody>\n",
       "</table>\n",
       "<p>47692 rows × 3 columns</p>\n",
       "</div>"
      ],
      "text/plain": [
       "                                              tweet_text cyberbullying_type  \\\n",
       "0      In other words #katandandre, your food was cra...  not_cyberbullying   \n",
       "1      Why is #aussietv so white? #MKR #theblock #ImA...  not_cyberbullying   \n",
       "2      @XochitlSuckkks a classy whore? Or more red ve...  not_cyberbullying   \n",
       "3      @Jason_Gio meh. :P  thanks for the heads up, b...  not_cyberbullying   \n",
       "4      @RudhoeEnglish This is an ISIS account pretend...  not_cyberbullying   \n",
       "...                                                  ...                ...   \n",
       "47687  Black ppl aren't expected to do anything, depe...          ethnicity   \n",
       "47688  Turner did not withhold his disappointment. Tu...          ethnicity   \n",
       "47689  I swear to God. This dumb nigger bitch. I have...          ethnicity   \n",
       "47690  Yea fuck you RT @therealexel: IF YOURE A NIGGE...          ethnicity   \n",
       "47691  Bro. U gotta chill RT @CHILLShrammy: Dog FUCK ...          ethnicity   \n",
       "\n",
       "                                         processed_tweet  \n",
       "0             In words katandandre food crapilicious mkr  \n",
       "1      Why aussietv white MKR theblock ImACelebrityAU...  \n",
       "2                   classy whore Or red velvet cupcakes   \n",
       "3        meh P thanks heads not concerned another ang...  \n",
       "4        This ISIS account pretending Kurdish account...  \n",
       "...                                                  ...  \n",
       "47687  Black ppl expected anything depended anything ...  \n",
       "47688  Turner not withhold disappointment Turner call...  \n",
       "47689  I swear God This dumb nigger bitch I got bleac...  \n",
       "47690  Yea fuck RT therealexel IF YOURE A NIGGER FUCK...  \n",
       "47691  Bro U gotta chill RT CHILLShrammy Dog FUCK KP ...  \n",
       "\n",
       "[47692 rows x 3 columns]"
      ]
     },
     "execution_count": 46,
     "metadata": {},
     "output_type": "execute_result"
    }
   ],
   "source": [
    "tweets"
   ]
  },
  {
   "cell_type": "code",
   "execution_count": 4,
   "id": "994f7e26",
   "metadata": {},
   "outputs": [
    {
     "data": {
      "text/plain": [
       "array(['not_cyberbullying', 'gender', 'religion', 'other_cyberbullying',\n",
       "       'age', 'ethnicity'], dtype=object)"
      ]
     },
     "execution_count": 4,
     "metadata": {},
     "output_type": "execute_result"
    }
   ],
   "source": [
    "tweets['cyberbullying_type'].unique()"
   ]
  },
  {
   "cell_type": "code",
   "execution_count": 52,
   "id": "8f9e22b7",
   "metadata": {},
   "outputs": [],
   "source": [
    "#remove stopwords\n",
    "stop_words = set(stopwords.words('english'))\n",
    "stop_words.remove(\"not\")\n",
    "stop_words.add(\"rt\") #for twitter retweet\n",
    "stop_words.remove(\"against\")\n",
    "# stop_words"
   ]
  },
  {
   "cell_type": "code",
   "execution_count": 37,
   "id": "c34fcb64",
   "metadata": {},
   "outputs": [],
   "source": [
    "twitter_string = \"@\\S+|https?:\\S+|http?:\\S|[^A-Za-z0-9]+\""
   ]
  },
  {
   "cell_type": "code",
   "execution_count": 47,
   "id": "cb93765d",
   "metadata": {},
   "outputs": [],
   "source": [
    "tweets[\"processed_tweet\"] = tweets[\"tweet_text\"].str.lower()"
   ]
  },
  {
   "cell_type": "code",
   "execution_count": 50,
   "id": "a7c1da48",
   "metadata": {},
   "outputs": [],
   "source": [
    "#remove tags to people and \n",
    "# retweet links of the people \n",
    "# and also remove stopwords\n",
    "# and convert emoji to words\n",
    "\n",
    "tweets[\"processed_tweet\"] = tweets[\"processed_tweet\"] \\\n",
    "                            .apply(lambda x: re.sub(twitter_string,' ', x)) \\\n",
    "                            .apply(lambda x : x.translate(str.maketrans('', '', string.punctuation))) \\\n",
    "                            .apply(lambda x: emoji.demojize(x)) \\\n",
    "                            .apply(lambda x : [value for value in x.split(\" \") if not value.startswith(\"@\") and value not in stop_words]) \\\n",
    "                            .apply(lambda x : ' '.join(x))"
   ]
  },
  {
   "cell_type": "code",
   "execution_count": 51,
   "id": "734684bf",
   "metadata": {},
   "outputs": [],
   "source": [
    "tweets.to_csv(\"Intermediate_file.csv\")"
   ]
  },
  {
   "cell_type": "code",
   "execution_count": null,
   "id": "cbbf5b4f",
   "metadata": {},
   "outputs": [],
   "source": [
    "tweets = pd.read_csv(\"Intermediate_file.csv\")"
   ]
  },
  {
   "cell_type": "code",
   "execution_count": null,
   "id": "bf6a275d",
   "metadata": {},
   "outputs": [],
   "source": [
    "#extracting sentiment of each tweet"
   ]
  },
  {
   "cell_type": "code",
   "execution_count": null,
   "id": "d86c1ead",
   "metadata": {},
   "outputs": [],
   "source": []
  },
  {
   "cell_type": "code",
   "execution_count": null,
   "id": "e024dbe1",
   "metadata": {},
   "outputs": [],
   "source": [
    "#topic and aspect extraction from each tweet"
   ]
  },
  {
   "cell_type": "code",
   "execution_count": null,
   "id": "0a05e0d9",
   "metadata": {},
   "outputs": [],
   "source": [
    "#TFIdf vectorizer"
   ]
  },
  {
   "cell_type": "code",
   "execution_count": null,
   "id": "0c9cf44e",
   "metadata": {},
   "outputs": [],
   "source": []
  },
  {
   "cell_type": "code",
   "execution_count": null,
   "id": "309e64bf",
   "metadata": {},
   "outputs": [],
   "source": []
  },
  {
   "cell_type": "code",
   "execution_count": null,
   "id": "702278f6",
   "metadata": {},
   "outputs": [],
   "source": []
  },
  {
   "cell_type": "code",
   "execution_count": null,
   "id": "1ac91c0c",
   "metadata": {},
   "outputs": [],
   "source": []
  },
  {
   "cell_type": "code",
   "execution_count": null,
   "id": "c00cef30",
   "metadata": {},
   "outputs": [],
   "source": []
  },
  {
   "cell_type": "code",
   "execution_count": null,
   "id": "234e70dd",
   "metadata": {},
   "outputs": [],
   "source": []
  },
  {
   "cell_type": "code",
   "execution_count": null,
   "id": "7795fafc",
   "metadata": {},
   "outputs": [],
   "source": []
  },
  {
   "cell_type": "code",
   "execution_count": null,
   "id": "59e29272",
   "metadata": {},
   "outputs": [],
   "source": []
  },
  {
   "cell_type": "code",
   "execution_count": null,
   "id": "772eb791",
   "metadata": {},
   "outputs": [],
   "source": []
  },
  {
   "cell_type": "code",
   "execution_count": null,
   "id": "b44257c8",
   "metadata": {},
   "outputs": [],
   "source": []
  },
  {
   "cell_type": "code",
   "execution_count": null,
   "id": "be9ceaf8",
   "metadata": {},
   "outputs": [],
   "source": []
  },
  {
   "cell_type": "code",
   "execution_count": null,
   "id": "fa9e3574",
   "metadata": {},
   "outputs": [],
   "source": []
  },
  {
   "cell_type": "code",
   "execution_count": null,
   "id": "e2debf1f",
   "metadata": {},
   "outputs": [],
   "source": []
  },
  {
   "cell_type": "code",
   "execution_count": null,
   "id": "62d23e5e",
   "metadata": {},
   "outputs": [],
   "source": []
  },
  {
   "cell_type": "code",
   "execution_count": null,
   "id": "50f5126f",
   "metadata": {},
   "outputs": [],
   "source": []
  },
  {
   "cell_type": "code",
   "execution_count": null,
   "id": "c5204dc5",
   "metadata": {},
   "outputs": [],
   "source": []
  },
  {
   "cell_type": "code",
   "execution_count": null,
   "id": "9805eb7b",
   "metadata": {},
   "outputs": [],
   "source": []
  },
  {
   "cell_type": "code",
   "execution_count": null,
   "id": "49c69976",
   "metadata": {},
   "outputs": [],
   "source": []
  },
  {
   "cell_type": "code",
   "execution_count": null,
   "id": "97dbb457",
   "metadata": {},
   "outputs": [],
   "source": []
  },
  {
   "cell_type": "code",
   "execution_count": null,
   "id": "b5f6eb50",
   "metadata": {},
   "outputs": [],
   "source": []
  },
  {
   "cell_type": "code",
   "execution_count": null,
   "id": "fb0548a5",
   "metadata": {},
   "outputs": [],
   "source": []
  },
  {
   "cell_type": "code",
   "execution_count": null,
   "id": "826b8dc9",
   "metadata": {},
   "outputs": [],
   "source": []
  },
  {
   "cell_type": "code",
   "execution_count": null,
   "id": "63667882",
   "metadata": {},
   "outputs": [],
   "source": []
  },
  {
   "cell_type": "code",
   "execution_count": null,
   "id": "7d02b3cf",
   "metadata": {},
   "outputs": [],
   "source": []
  }
 ],
 "metadata": {
  "kernelspec": {
   "display_name": "Python 3 (ipykernel)",
   "language": "python",
   "name": "python3"
  },
  "language_info": {
   "codemirror_mode": {
    "name": "ipython",
    "version": 3
   },
   "file_extension": ".py",
   "mimetype": "text/x-python",
   "name": "python",
   "nbconvert_exporter": "python",
   "pygments_lexer": "ipython3",
   "version": "3.9.7"
  }
 },
 "nbformat": 4,
 "nbformat_minor": 5
}
